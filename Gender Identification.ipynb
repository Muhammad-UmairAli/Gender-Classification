{
 "cells": [
  {
   "cell_type": "markdown",
   "metadata": {},
   "source": [
    "#       بِسمِ اللہِ الرَّحمٰنِ الرَّحِيم  .    شُروع اَللہ کے پاک نام سے جو بڑا مہر بان نہايت رحم والا ہے     \n"
   ]
  },
  {
   "cell_type": "markdown",
   "metadata": {},
   "source": [
    "# Import Libraries"
   ]
  },
  {
   "cell_type": "code",
   "execution_count": 1,
   "metadata": {},
   "outputs": [],
   "source": [
    "import re\n",
    "import string\n",
    "import scipy\n",
    "import pickle\n",
    "import pandas as pd \n",
    "import numpy as np\n",
    "from sklearn.feature_extraction.text import *\n",
    "from sklearn.preprocessing import  LabelEncoder\n",
    "from sklearn.linear_model import LogisticRegression\n",
    "from sklearn.naive_bayes import BernoulliNB\n",
    "from sklearn.ensemble import RandomForestClassifier\n",
    "from sklearn.svm import LinearSVC\n",
    "from sklearn.metrics import accuracy_score\n",
    "from astropy.table import Table,Column \n",
    "from prettytable import PrettyTable\n",
    "import warnings\n",
    "\n",
    "\n",
    "from sklearn.exceptions import DataConversionWarning\n",
    "warnings.filterwarnings(action='ignore', category=DataConversionWarning)\n",
    "\n",
    "from sklearn.exceptions import ConvergenceWarning\n",
    "warnings.filterwarnings(action='ignore', category=ConvergenceWarning)\n",
    "\n",
    "from warnings import simplefilter\n",
    "# ignore all future warnings\n",
    "simplefilter(action='ignore', category=FutureWarning)\n",
    "\n",
    "\n"
   ]
  },
  {
   "cell_type": "markdown",
   "metadata": {},
   "source": [
    "# Read and Understand Train and Test Data"
   ]
  },
  {
   "cell_type": "code",
   "execution_count": 2,
   "metadata": {
    "scrolled": true
   },
   "outputs": [
    {
     "name": "stdout",
     "output_type": "stream",
     "text": [
      "index    height  weight    hair beard scarf  gender\n",
      "0      180.3000     196    Bald   Yes    No    Male\n",
      "1      170.0000     120    Long    No    No  Female\n",
      "2      178.5000     200   Short    No    No    Male\n",
      "3      163.4000     110  Medium    No   Yes  Female\n",
      "4      175.2222     220   Short   Yes    No    Male\n",
      "5      165.0000     150  Medium    No   Yes  Female\n"
     ]
    }
   ],
   "source": [
    "df = pd.read_csv (r'C:\\Users\\Muhammad Umair Ali\\Desktop\\Assignment ML\\train.csv')\n",
    "\n",
    "df.columns.name = 'index'\n",
    "\n",
    "print (df)\n"
   ]
  },
  {
   "cell_type": "code",
   "execution_count": 3,
   "metadata": {},
   "outputs": [
    {
     "name": "stdout",
     "output_type": "stream",
     "text": [
      "\n",
      "\n",
      "\n",
      " Train Dataset Columns \n",
      " \n",
      "Index(['height', 'weight', 'hair', 'beard', 'scarf', 'gender'], dtype='object', name='index')\n",
      "\n",
      " Number of Instances in Dataset  \n",
      "6\n"
     ]
    }
   ],
   "source": [
    "print('\\n')\n",
    "print('\\n Train Dataset Columns \\n ')\n",
    "print (df.columns)\n",
    "\n",
    "print('\\n Number of Instances in Dataset  ')\n",
    "\n",
    "print(len(df.index))\n",
    "\n"
   ]
  },
  {
   "cell_type": "code",
   "execution_count": 4,
   "metadata": {},
   "outputs": [
    {
     "name": "stdout",
     "output_type": "stream",
     "text": [
      "Test DataSet:\n",
      "\n",
      "   height  weight    hair beard scarf  gender\n",
      "0   179.1     185    Long   Yes    No    Male\n",
      "1   160.5     130   Short    No    No  Female\n",
      "2   177.8     160    Bald    No    No    Male\n",
      "3   161.1     100  Medium    No    No  Female\n",
      "\n",
      "\n",
      "\n",
      " Test Dataset Columns \n",
      " \n",
      "Index(['height', 'weight', 'hair', 'beard', 'scarf', 'gender'], dtype='object', name='index')\n",
      "\n",
      " Number of Instances in Test Dataset  \n",
      "4\n"
     ]
    }
   ],
   "source": [
    "print ('Test DataSet:\\n')\n",
    "dftest = pd.read_csv (r'C:\\Users\\Muhammad Umair Ali\\Desktop\\Assignment ML\\Test.csv')\n",
    "print (dftest)\n",
    "dftest.columns.name = 'index'\n",
    "print('\\n')\n",
    "print('\\n Test Dataset Columns \\n ')\n",
    "print (dftest.columns)\n",
    "\n",
    "print('\\n Number of Instances in Test Dataset  ')\n",
    "\n",
    "print(len(dftest.index))"
   ]
  },
  {
   "cell_type": "code",
   "execution_count": 5,
   "metadata": {},
   "outputs": [
    {
     "name": "stdout",
     "output_type": "stream",
     "text": [
      "3 Train instances label 'Male'\n",
      "index    height  weight   hair beard scarf gender\n",
      "0      180.3000     196   Bald   Yes    No   Male\n",
      "2      178.5000     200  Short    No    No   Male\n",
      "4      175.2222     220  Short   Yes    No   Male\n"
     ]
    }
   ],
   "source": [
    "\n",
    "dframe=pd.DataFrame(df)\n",
    "print(len(dframe[dframe['gender'] == 'Male']),\"Train instances label 'Male'\")   \n",
    "print (dframe[dframe['gender'] == 'Male'])\n",
    "\n"
   ]
  },
  {
   "cell_type": "code",
   "execution_count": 6,
   "metadata": {},
   "outputs": [
    {
     "name": "stdout",
     "output_type": "stream",
     "text": [
      "3 Train instances label 'Female'\n",
      "index  height  weight    hair beard scarf  gender\n",
      "1       170.0     120    Long    No    No  Female\n",
      "3       163.4     110  Medium    No   Yes  Female\n",
      "5       165.0     150  Medium    No   Yes  Female\n"
     ]
    }
   ],
   "source": [
    "print(len(dframe[dframe['gender'] == 'Female']),\"Train instances label 'Female'\")   \n",
    "print (dframe[dframe['gender'] == 'Female'])"
   ]
  },
  {
   "cell_type": "code",
   "execution_count": 7,
   "metadata": {},
   "outputs": [
    {
     "name": "stdout",
     "output_type": "stream",
     "text": [
      "2 Test instances label 'Male'\n",
      "index  height  weight  hair beard scarf gender\n",
      "0       179.1     185  Long   Yes    No   Male\n",
      "2       177.8     160  Bald    No    No   Male\n"
     ]
    }
   ],
   "source": [
    "dframe2=pd.DataFrame(dftest)\n",
    "print(len(dframe2[dframe2['gender'] == 'Male']),\"Test instances label 'Male'\")   \n",
    "print (dframe2[dframe2['gender'] == 'Male'])\n",
    "\n"
   ]
  },
  {
   "cell_type": "code",
   "execution_count": 8,
   "metadata": {},
   "outputs": [
    {
     "name": "stdout",
     "output_type": "stream",
     "text": [
      "2 Test instances label 'Female'\n",
      "index  height  weight    hair beard scarf  gender\n",
      "1       160.5     130   Short    No    No  Female\n",
      "3       161.1     100  Medium    No    No  Female\n"
     ]
    }
   ],
   "source": [
    "print(len(dframe2[dframe2['gender'] == 'Female']),\"Test instances label 'Female'\")   \n",
    "print (dframe2[dframe2['gender'] == 'Female'])\n",
    "\n"
   ]
  },
  {
   "cell_type": "code",
   "execution_count": 10,
   "metadata": {},
   "outputs": [
    {
     "name": "stdout",
     "output_type": "stream",
     "text": [
      "Total Number of 'Male' and 'Female' in Train Data  \n"
     ]
    },
    {
     "data": {
      "image/png": "[encoded data removed]",
      "text/plain": [
       "<Figure size 432x288 with 1 Axes>"
      ]
     },
     "metadata": {
      "needs_background": "light"
     },
     "output_type": "display_data"
    }
   ],
   "source": [
    "import matplotlib.pyplot as plt \n",
    "\n",
    "print(\"Total Number of 'Male' and 'Female' in Train Data  \")\n",
    "sizefe=len(dframe[dframe['gender'] == 'Female'])\n",
    "sizem=len(dframe[dframe['gender'] == 'Male'])\n",
    "\n",
    "height=[sizem,sizefe]\n",
    "\n",
    "bars = ('Male', 'Female')\n",
    "y_pos = np.arange(len(bars))\n",
    "\n",
    "# Create bars\n",
    "plt.bar(y_pos, height,color=('blue','orange'))\n",
    " \n",
    "# Create names on the x-axis\n",
    "plt.xticks(y_pos, bars)\n",
    "plt.xlabel('Gender')\n",
    "# Show graphic\n",
    "plt.show()\n",
    "\n"
   ]
  },
  {
   "cell_type": "code",
   "execution_count": 11,
   "metadata": {},
   "outputs": [
    {
     "name": "stdout",
     "output_type": "stream",
     "text": [
      "Total Number of 'Male' and 'Female' in Test Data  \n"
     ]
    },
    {
     "data": {
      "image/png": "[encoded data removed]",
      "text/plain": [
       "<Figure size 432x288 with 1 Axes>"
      ]
     },
     "metadata": {
      "needs_background": "light"
     },
     "output_type": "display_data"
    }
   ],
   "source": [
    "\n",
    "print(\"Total Number of 'Male' and 'Female' in Test Data  \")\n",
    "sizefe2=len(dframe2[dframe2['gender'] == 'Female'])\n",
    "sizem2=len(dframe2[dframe2['gender'] == 'Male'])\n",
    "\n",
    "height=[sizem2,sizefe2]\n",
    "\n",
    "bars = ('Male', 'Female')\n",
    "y_pos = np.arange(len(bars))\n",
    "\n",
    "# Create bars\n",
    "plt.bar(y_pos, height,color=('blue','orange'))\n",
    " \n",
    "# Create names on the x-axis\n",
    "plt.xticks(y_pos, bars)\n",
    "plt.xlabel('Gender')\n",
    "# Show graphic\n",
    "plt.show()\n",
    "\n"
   ]
  },
  {
   "cell_type": "code",
   "execution_count": 12,
   "metadata": {},
   "outputs": [
    {
     "name": "stdout",
     "output_type": "stream",
     "text": [
      "Number of People having various Hair Length in Train DataSet  \n"
     ]
    },
    {
     "data": {
      "image/png": "[encoded data removed]",
      "text/plain": [
       "<Figure size 432x288 with 1 Axes>"
      ]
     },
     "metadata": {
      "needs_background": "light"
     },
     "output_type": "display_data"
    }
   ],
   "source": [
    "print(\"Number of People having various Hair Length in Train DataSet  \")\n",
    "short=len(dframe[dframe['hair'] == 'Short'])\n",
    "medium=len(dframe[dframe['hair'] == 'Medium'])\n",
    "long=len(dframe[dframe['hair'] == 'Long'])\n",
    "bald=len(dframe[dframe['hair'] == 'Bald'])\n",
    "\n",
    "\n",
    "height=[short,medium,long,bald]\n",
    "\n",
    "bars = ('Short', 'Medium','long','bald')\n",
    "y_pos = np.arange(len(bars))\n",
    "\n",
    "# Create bars\n",
    "plt.bar(y_pos, height,color=('black','black','black','black'))\n",
    " \n",
    "# Create names on the x-axis\n",
    "plt.xticks(y_pos, bars)\n",
    "plt.xlabel('Hair Length')\n",
    "# Show graphic\n",
    "plt.show()\n"
   ]
  },
  {
   "cell_type": "code",
   "execution_count": 13,
   "metadata": {},
   "outputs": [
    {
     "name": "stdout",
     "output_type": "stream",
     "text": [
      "Number of People having various Hair Length in Test DataSet  \n"
     ]
    },
    {
     "data": {
      "image/png": "[encoded data removed]",
      "text/plain": [
       "<Figure size 432x288 with 1 Axes>"
      ]
     },
     "metadata": {
      "needs_background": "light"
     },
     "output_type": "display_data"
    }
   ],
   "source": [
    "print(\"Number of People having various Hair Length in Test DataSet  \")\n",
    "short=len(dframe2[dframe2['hair'] == 'Short'])\n",
    "medium=len(dframe2[dframe2['hair'] == 'Medium'])\n",
    "long=len(dframe2[dframe2['hair'] == 'Long'])\n",
    "bald=len(dframe2[dframe2['hair'] == 'Bald'])\n",
    "\n",
    "\n",
    "height=[short,medium,long,bald]\n",
    "\n",
    "bars = ('Short', 'Medium','long','bald')\n",
    "y_pos = np.arange(len(bars))\n",
    "\n",
    "# Create bars\n",
    "plt.bar(y_pos, height,color=('black','black','black','black'))\n",
    " \n",
    "# Create names on the x-axis\n",
    "plt.xticks(y_pos, bars)\n",
    "plt.xlabel('Hair Length')\n",
    "# Show graphic\n",
    "plt.show()"
   ]
  },
  {
   "cell_type": "code",
   "execution_count": 14,
   "metadata": {},
   "outputs": [
    {
     "name": "stdout",
     "output_type": "stream",
     "text": [
      "Number of People have/have not Beard in Train Datatset  \n"
     ]
    },
    {
     "data": {
      "image/png": "[encoded data removed]",
      "text/plain": [
       "<Figure size 432x288 with 1 Axes>"
      ]
     },
     "metadata": {
      "needs_background": "light"
     },
     "output_type": "display_data"
    }
   ],
   "source": [
    "print(\"Number of People have/have not Beard in Train Datatset  \")\n",
    "beard=len(dframe[dframe['beard'] == 'No'])\n",
    "nobeard=len(dframe[dframe['beard'] == 'Yes'])\n",
    "\n",
    "\n",
    "\n",
    "height=[beard,nobeard]\n",
    "\n",
    "bars = ('No', 'Yes')\n",
    "y_pos = np.arange(len(bars))\n",
    "\n",
    "# Create bars\n",
    "plt.bar(y_pos, height,color=('black','black'))\n",
    " \n",
    "# Create names on the x-axis\n",
    "plt.xticks(y_pos, bars)\n",
    "\n",
    "# Show graphic\n",
    "plt.show()"
   ]
  },
  {
   "cell_type": "code",
   "execution_count": 15,
   "metadata": {},
   "outputs": [
    {
     "name": "stdout",
     "output_type": "stream",
     "text": [
      "Number of People have/have not Beard in Train Datatset  \n"
     ]
    },
    {
     "data": {
      "image/png": "[encoded data removed]",
      "text/plain": [
       "<Figure size 432x288 with 1 Axes>"
      ]
     },
     "metadata": {
      "needs_background": "light"
     },
     "output_type": "display_data"
    }
   ],
   "source": [
    "print(\"Number of People have/have not Beard in Train Datatset  \")\n",
    "beard=len(dframe2[dframe2['beard'] == 'No'])\n",
    "nobeard=len(dframe2[dframe2['beard'] == 'Yes'])\n",
    "\n",
    "\n",
    "\n",
    "height=[beard,nobeard]\n",
    "\n",
    "bars = ('No', 'Yes')\n",
    "y_pos = np.arange(len(bars))\n",
    "\n",
    "# Create bars\n",
    "plt.bar(y_pos, height,color=('yellow','yellow'))\n",
    " \n",
    "# Create names on the x-axis\n",
    "plt.xticks(y_pos, bars)\n",
    "\n",
    "# Show graphic\n",
    "plt.show()"
   ]
  },
  {
   "cell_type": "markdown",
   "metadata": {},
   "source": [
    "# Pre-Process Data"
   ]
  },
  {
   "cell_type": "code",
   "execution_count": 16,
   "metadata": {},
   "outputs": [
    {
     "name": "stdout",
     "output_type": "stream",
     "text": [
      "Train Dataset before preprocessing\n",
      "     height  weight    hair beard scarf  gender\n",
      "0  180.3000     196    Bald   Yes    No    Male\n",
      "1  170.0000     120    Long    No    No  Female\n",
      "2  178.5000     200   Short    No    No    Male\n",
      "3  163.4000     110  Medium    No   Yes  Female\n",
      "4  175.2222     220   Short   Yes    No    Male\n",
      "5  165.0000     150  Medium    No   Yes  Female\n",
      "Train Dataset After preprocessing\n",
      "   height  weight    hair beard scarf  gender\n",
      "0  180.30     196    Bald   Yes    No    Male\n",
      "1  170.00     120    Long    No    No  Female\n",
      "2  178.50     200   Short    No    No    Male\n",
      "3  163.40     110  Medium    No   Yes  Female\n",
      "4  175.22     220   Short   Yes    No    Male\n",
      "5  165.00     150  Medium    No   Yes  Female\n"
     ]
    }
   ],
   "source": [
    "df = pd.read_csv (r'C:\\Users\\Muhammad Umair Ali\\Desktop\\Assignment ML\\train.csv')\n",
    "dframe=pd.DataFrame(df)\n",
    "dframeencode=pd.DataFrame(df)\n",
    "print(\"Train Dataset before preprocessing\")\n",
    "print(dframe)\n",
    "dframe.height=np.round(dframe.height, decimals=2)\n",
    "print(\"Train Dataset After preprocessing\")\n",
    "print(dframe)\n",
    "dframetrain=dframe"
   ]
  },
  {
   "cell_type": "markdown",
   "metadata": {},
   "source": [
    "# Label Encoding For Train/Test Data"
   ]
  },
  {
   "cell_type": "code",
   "execution_count": 17,
   "metadata": {},
   "outputs": [
    {
     "name": "stdout",
     "output_type": "stream",
     "text": [
      "Gender Attribute Encoding in Train Dataset\n",
      "\n",
      "   gender  encoded_gender\n",
      "0    Male               1\n",
      "1  Female               0\n",
      "2    Male               1\n",
      "3  Female               0\n",
      "4    Male               1\n",
      "5  Female               0\n"
     ]
    }
   ],
   "source": [
    "from sklearn.preprocessing import LabelEncoder\n",
    "encode = LabelEncoder()\n",
    "dframe[\"encoded_gender\"] = encode.fit_transform(dframe[\"gender\"])\n",
    "print(\"Gender Attribute Encoding in Train Dataset\\n\")\n",
    "print(dframe[[\"gender\", \"encoded_gender\"]].head(11))\n"
   ]
  },
  {
   "cell_type": "code",
   "execution_count": 18,
   "metadata": {},
   "outputs": [
    {
     "name": "stdout",
     "output_type": "stream",
     "text": [
      "Scarf Attribute Encoding in Train Dataset\n",
      "\n",
      "  scarf  encoded_scarf\n",
      "0    No              0\n",
      "1    No              0\n",
      "2    No              0\n",
      "3   Yes              1\n",
      "4    No              0\n",
      "5   Yes              1\n"
     ]
    }
   ],
   "source": [
    "encode2 = LabelEncoder()\n",
    "dframe[\"encoded_scarf\"] = encode2.fit_transform(dframe[\"scarf\"])\n",
    "print(\"Scarf Attribute Encoding in Train Dataset\\n\")\n",
    "print(dframe[[\"scarf\", \"encoded_scarf\"]].head(11))\n"
   ]
  },
  {
   "cell_type": "code",
   "execution_count": 19,
   "metadata": {},
   "outputs": [
    {
     "name": "stdout",
     "output_type": "stream",
     "text": [
      "Beard Attribute Encoding in Train Dataset\n",
      "\n",
      "  beard  encoded_beard\n",
      "0   Yes              1\n",
      "1    No              0\n",
      "2    No              0\n",
      "3    No              0\n",
      "4   Yes              1\n",
      "5    No              0\n"
     ]
    }
   ],
   "source": [
    "encode3 = LabelEncoder()\n",
    "dframe[\"encoded_beard\"] = encode3.fit_transform(dframe[\"beard\"])\n",
    "print(\"Beard Attribute Encoding in Train Dataset\\n\")\n",
    "print(dframe[[\"beard\", \"encoded_beard\"]].head(11))\n"
   ]
  },
  {
   "cell_type": "code",
   "execution_count": 20,
   "metadata": {},
   "outputs": [
    {
     "name": "stdout",
     "output_type": "stream",
     "text": [
      "Hair Attribute Encoding in Train Dataset\n",
      "\n",
      "     hair  encoded_hair\n",
      "0    Bald             0\n",
      "1    Long             1\n",
      "2   Short             3\n",
      "3  Medium             2\n",
      "4   Short             3\n",
      "5  Medium             2\n"
     ]
    }
   ],
   "source": [
    "encode4 = LabelEncoder()\n",
    "dframe[\"encoded_hair\"] = encode4.fit_transform(dframe[\"hair\"])\n",
    "print(\"Hair Attribute Encoding in Train Dataset\\n\")\n",
    "print(dframe[[\"hair\", \"encoded_hair\"]].head(11))\n"
   ]
  },
  {
   "cell_type": "code",
   "execution_count": 21,
   "metadata": {},
   "outputs": [
    {
     "name": "stdout",
     "output_type": "stream",
     "text": [
      "Original Data\n",
      "   height  weight    hair beard scarf  gender\n",
      "0  180.30     196    Bald   Yes    No    Male\n",
      "1  170.00     120    Long    No    No  Female\n",
      "2  178.50     200   Short    No    No    Male\n",
      "3  163.40     110  Medium    No   Yes  Female\n",
      "4  175.22     220   Short   Yes    No    Male\n",
      "5  165.00     150  Medium    No   Yes  Female\n",
      "Train data after Label Encoding\n",
      "\n",
      "   height  weight  hair  beard  scarf  gender\n",
      "0  180.30     196     0      1      0       1\n",
      "1  170.00     120     1      0      0       0\n",
      "2  178.50     200     3      0      0       1\n",
      "3  163.40     110     2      0      1       0\n",
      "4  175.22     220     3      1      0       1\n",
      "5  165.00     150     2      0      1       0\n"
     ]
    }
   ],
   "source": [
    "dcode=pd.DataFrame(df)\n",
    "print(\"Original Data\")\n",
    "print(dframe[[\"height\",\"weight\",\"hair\",\"beard\",\"scarf\",\"gender\"]])\n",
    "print(\"Train data after Label Encoding\\n\")\n",
    "dframe[\"hair\"]=dframe[\"encoded_hair\"];\n",
    "dframe[\"beard\"]=dframe[\"encoded_beard\"];\n",
    "dframe[\"scarf\"]=dframe[\"encoded_scarf\"];\n",
    "dframe[\"gender\"]=dframe[\"encoded_gender\"];\n",
    "\n",
    "print(dframe[[\"height\",\"weight\",\"hair\",\"beard\",\"scarf\",\"gender\"]])\n"
   ]
  },
  {
   "cell_type": "code",
   "execution_count": 22,
   "metadata": {},
   "outputs": [
    {
     "name": "stdout",
     "output_type": "stream",
     "text": [
      "Original Data\n",
      "index  height  weight    hair beard scarf  gender\n",
      "0       179.1     185    Long   Yes    No    Male\n",
      "1       160.5     130   Short    No    No  Female\n",
      "2       177.8     160    Bald    No    No    Male\n",
      "3       161.1     100  Medium    No    No  Female\n",
      "Test data after Label Encoding\n",
      "\n",
      "index  height  weight  hair  beard  scarf  gender\n",
      "0       179.1     185     1      1      0       1\n",
      "1       160.5     130     3      0      0       0\n",
      "2       177.8     160     0      0      0       1\n",
      "3       161.1     100     2      0      0       0\n"
     ]
    }
   ],
   "source": [
    "encodet1= LabelEncoder()\n",
    "encodet2= LabelEncoder()\n",
    "encodet3= LabelEncoder()\n",
    "encodet4= LabelEncoder()\n",
    "\n",
    "dframe2[\"encoded_gender\"] = encodet1.fit_transform(dframe2[\"gender\"])\n",
    "dframe2[\"encoded_scarf\"] = encodet2.fit_transform(dframe2[\"scarf\"])\n",
    "dframe2[\"encoded_hair\"] = encodet3.fit_transform(dframe2[\"hair\"])\n",
    "dframe2[\"encoded_beard\"] = encodet4.fit_transform(dframe2[\"beard\"])\n",
    "print(\"Original Data\")\n",
    "\n",
    "print(dframe2[[\"height\",\"weight\",\"hair\",\"beard\",\"scarf\",\"gender\"]])\n",
    "\n",
    "print(\"Test data after Label Encoding\\n\")\n",
    "dframe2[\"hair\"]=dframe2[\"encoded_hair\"];\n",
    "dframe2[\"beard\"]=dframe2[\"encoded_beard\"];\n",
    "dframe2[\"scarf\"]=dframe2[\"encoded_scarf\"];\n",
    "dframe2[\"gender\"]=dframe2[\"encoded_gender\"];\n",
    "\n",
    "print(dframe2[[\"height\",\"weight\",\"hair\",\"beard\",\"scarf\",\"gender\"]])\n"
   ]
  },
  {
   "cell_type": "markdown",
   "metadata": {},
   "source": [
    "# Train ML Algorithms using Train Data"
   ]
  },
  {
   "cell_type": "code",
   "execution_count": 23,
   "metadata": {},
   "outputs": [
    {
     "name": "stdout",
     "output_type": "stream",
     "text": [
      "LogisticRegression(C=1.0, class_weight=None, dual=False, fit_intercept=True,\n",
      "          intercept_scaling=1, max_iter=100, multi_class='warn',\n",
      "          n_jobs=None, penalty='l2', random_state=None, solver='lbfgs',\n",
      "          tol=0.0001, verbose=0, warm_start=False)\n",
      "Logistic Regression  model accuracy: 0.75\n"
     ]
    }
   ],
   "source": [
    "from sklearn import datasets, linear_model, metrics\n",
    "# create Logistic Regression object \n",
    "reg = linear_model.LogisticRegression(solver='lbfgs') \n",
    "   \n",
    "# train the model using the training sets \n",
    "reg.fit(dframe[[\"height\",\"weight\",\"hair\",\"beard\",\"scarf\"]],dframe[[\"gender\"]]) \n",
    "  \n",
    "# making predictions on the testing set \n",
    "y_pred = reg.predict(dframe2[[\"height\",\"weight\",\"hair\",\"beard\",\"scarf\"]]) \n",
    "   \n",
    "# comparing actual response values (y_test) with predicted response values (y_pred) \n",
    "print(reg)\n",
    "print(\"Logistic Regression  model accuracy:\",  \n",
    "accuracy_score(dframe2[[\"gender\"]], y_pred )) "
   ]
  },
  {
   "cell_type": "code",
   "execution_count": 25,
   "metadata": {},
   "outputs": [
    {
     "name": "stdout",
     "output_type": "stream",
     "text": [
      "RandomForestClassifier(bootstrap=True, class_weight=None, criterion='gini',\n",
      "            max_depth=None, max_features='auto', max_leaf_nodes=None,\n",
      "            min_impurity_decrease=0.0, min_impurity_split=None,\n",
      "            min_samples_leaf=1, min_samples_split=2,\n",
      "            min_weight_fraction_leaf=0.0, n_estimators=10, n_jobs=None,\n",
      "            oob_score=False, random_state=None, verbose=0,\n",
      "            warm_start=False)\n",
      "Random Forest  model accuracy: 1.0\n"
     ]
    }
   ],
   "source": [
    "from sklearn.ensemble import RandomForestClassifier\n",
    "# create Random forest object \n",
    "random = RandomForestClassifier()\n",
    "   \n",
    "# train the model using the training sets \n",
    "random.fit(dframe[[\"height\",\"weight\",\"hair\",\"beard\",\"scarf\"]],dframe[[\"gender\"]]) \n",
    "  \n",
    "# making predictions on the testing set \n",
    "y_predrandom = random.predict(dframe2[[\"height\",\"weight\",\"hair\",\"beard\",\"scarf\"]]) \n",
    "   \n",
    "# comparing actual response values (y_test) with predicted response values (y_pred) \n",
    "print(random)\n",
    "print(\"Random Forest  model accuracy:\",  \n",
    "accuracy_score(dframe2[[\"gender\"]], y_predrandom )) \n"
   ]
  },
  {
   "cell_type": "code",
   "execution_count": 26,
   "metadata": {},
   "outputs": [
    {
     "name": "stdout",
     "output_type": "stream",
     "text": [
      "LinearSVC(C=1.0, class_weight=None, dual=True, fit_intercept=True,\n",
      "     intercept_scaling=1, loss='squared_hinge', max_iter=1000,\n",
      "     multi_class='ovr', penalty='l2', random_state=0, tol=1e-05, verbose=0)\n",
      "LinearSV model accuracy: 0.75\n"
     ]
    }
   ],
   "source": [
    "from sklearn.svm import LinearSVC\n",
    "# create LinearSV object \n",
    "LSV = LinearSVC(C=1.0, class_weight=None, dual=True, fit_intercept=True,\n",
    "     intercept_scaling=1, loss='squared_hinge', max_iter=1000,\n",
    "     multi_class='ovr', penalty='l2', random_state=0, tol=1e-05, verbose=0) \n",
    "   \n",
    "# train the model using the training sets \n",
    "LSV.fit(dframe[[\"height\",\"weight\",\"hair\",\"beard\",\"scarf\"]],dframe[[\"gender\"]]) \n",
    "  \n",
    "# making predictions on the testing set \n",
    "LSV_pred = LSV.predict(dframe2[[\"height\",\"weight\",\"hair\",\"beard\",\"scarf\"]]) \n",
    "   \n",
    "# comparing actual response values (y_test) with predicted response values (y_pred) \n",
    "print(LSV)\n",
    "print(\"LinearSV model accuracy:\",  \n",
    "accuracy_score(dframe2[[\"gender\"]], LSV_pred )) "
   ]
  },
  {
   "cell_type": "code",
   "execution_count": 27,
   "metadata": {},
   "outputs": [
    {
     "name": "stdout",
     "output_type": "stream",
     "text": [
      "BernoulliNB(alpha=1.0, binarize=0.0, class_prior=None, fit_prior=True)\n",
      "BernoulliNB model accuracy: 1.0\n"
     ]
    }
   ],
   "source": [
    "from sklearn.naive_bayes import BernoulliNB\n",
    "# create BernoulliNB object \n",
    "Ber =BernoulliNB() \n",
    "   \n",
    "# train the model using the training sets \n",
    "Ber.fit(dframe[[\"height\",\"weight\",\"hair\",\"beard\",\"scarf\"]],dframe[[\"gender\"]]) \n",
    "  \n",
    "# making predictions on the testing set \n",
    "Ber_pred = Ber.predict(dframe2[[\"height\",\"weight\",\"hair\",\"beard\",\"scarf\"]]) \n",
    "   \n",
    "# comparing actual response values (y_test) with predicted response values (y_pred) \n",
    "print(Ber)\n",
    "print(\"BernoulliNB model accuracy:\",  \n",
    "accuracy_score(dframe2[[\"gender\"]], Ber_pred )) "
   ]
  },
  {
   "cell_type": "code",
   "execution_count": 28,
   "metadata": {},
   "outputs": [
    {
     "name": "stdout",
     "output_type": "stream",
     "text": [
      "Show Decoded values of Gender for all Modals\n",
      "['Male' 'Female' 'Female' 'Female']\n",
      "['Male' 'Female' 'Male' 'Female']\n",
      "['Male' 'Female' 'Female' 'Female']\n",
      "['Male' 'Female' 'Male' 'Female']\n"
     ]
    }
   ],
   "source": [
    "print(\"Show Decoded values of Gender for all Modals\")\n",
    "decodeg=encodet1.inverse_transform(y_pred)\n",
    "print(decodeg)\n",
    "\n",
    "decodeg2=encodet1.inverse_transform(y_predrandom)\n",
    "print(decodeg2)\n",
    "\n",
    "decodeg3=encodet1.inverse_transform(LSV_pred)\n",
    "print(decodeg3)\n",
    "\n",
    "decodeg4=encodet1.inverse_transform(Ber_pred)\n",
    "print(decodeg4)\n"
   ]
  },
  {
   "cell_type": "code",
   "execution_count": 29,
   "metadata": {},
   "outputs": [
    {
     "data": {
      "text/plain": [
       "Ellipsis"
      ]
     },
     "execution_count": 29,
     "metadata": {},
     "output_type": "execute_result"
    }
   ],
   "source": [
    "dframe.pop('encoded_gender')\n",
    "dframe.pop('encoded_scarf')\n",
    "dframe.pop('encoded_beard')\n",
    "dframe.pop('encoded_hair')\n",
    "\n",
    "dframe2.pop('encoded_gender')\n",
    "dframe2.pop('encoded_scarf')\n",
    "dframe2.pop('encoded_beard')\n",
    "dframe2.pop('encoded_hair')\n",
    "...\n"
   ]
  },
  {
   "cell_type": "code",
   "execution_count": 30,
   "metadata": {},
   "outputs": [],
   "source": [
    "dframe2encode=pd.DataFrame(dframe2)\n",
    "\n",
    "dftest = pd.read_csv (r'C:\\Users\\Muhammad Umair Ali\\Desktop\\Assignment ML\\Test.csv')\n",
    "dframe2=pd.DataFrame(dftest)\n"
   ]
  },
  {
   "cell_type": "markdown",
   "metadata": {},
   "source": [
    "# Evaluate ML Algorithms using Test Data"
   ]
  },
  {
   "cell_type": "code",
   "execution_count": 31,
   "metadata": {},
   "outputs": [
    {
     "name": "stdout",
     "output_type": "stream",
     "text": [
      "Prediction using Logistic Regression\n",
      "\n",
      "   height  weight    hair beard scarf  gender predicted_gender\n",
      "0   179.1     185    Long   Yes    No    Male             Male\n",
      "1   160.5     130   Short    No    No  Female           Female\n",
      "2   177.8     160    Bald    No    No    Male           Female\n",
      "3   161.1     100  Medium    No    No  Female           Female\n",
      "Accuracy Score:\n",
      " 0.75\n"
     ]
    }
   ],
   "source": [
    "dframe2['predicted_gender']=decodeg\n",
    "log_dframe2=pd.DataFrame(dframe2)\n",
    "\n",
    "print(\"Prediction using Logistic Regression\\n\")\n",
    "print(log_dframe2)\n",
    "print(\"Accuracy Score:\\n\",  \n",
    "accuracy_score(dframe2encode[[\"gender\"]], y_pred ))\n"
   ]
  },
  {
   "cell_type": "code",
   "execution_count": 32,
   "metadata": {},
   "outputs": [
    {
     "name": "stdout",
     "output_type": "stream",
     "text": [
      "Prediction using RandomForestClassifier\n",
      "\n",
      "   height  weight    hair beard scarf  gender predicted_gender\n",
      "0   179.1     185    Long   Yes    No    Male             Male\n",
      "1   160.5     130   Short    No    No  Female           Female\n",
      "2   177.8     160    Bald    No    No    Male             Male\n",
      "3   161.1     100  Medium    No    No  Female           Female\n",
      "Accuracy Score:\n",
      " 1.0\n"
     ]
    }
   ],
   "source": [
    "dframe2['predicted_gender']=decodeg2\n",
    "Ran_dframe2=pd.DataFrame(dframe2)\n",
    "\n",
    "print(\"Prediction using RandomForestClassifier\\n\")\n",
    "print(Ran_dframe2)\n",
    "print(\"Accuracy Score:\\n\",  \n",
    "accuracy_score(dframe2encode[[\"gender\"]], y_predrandom ))"
   ]
  },
  {
   "cell_type": "code",
   "execution_count": 33,
   "metadata": {},
   "outputs": [
    {
     "name": "stdout",
     "output_type": "stream",
     "text": [
      "Prediction using LinearSV\n",
      "\n",
      "   height  weight    hair beard scarf  gender predicted_gender\n",
      "0   179.1     185    Long   Yes    No    Male             Male\n",
      "1   160.5     130   Short    No    No  Female           Female\n",
      "2   177.8     160    Bald    No    No    Male           Female\n",
      "3   161.1     100  Medium    No    No  Female           Female\n",
      "Accuracy Score:\n",
      " 0.75\n"
     ]
    }
   ],
   "source": [
    "dframe2['predicted_gender']=decodeg3\n",
    "LSV_dframe2=pd.DataFrame(dframe2)\n",
    "\n",
    "print(\"Prediction using LinearSV\\n\")\n",
    "print(LSV_dframe2)\n",
    "print(\"Accuracy Score:\\n\",  \n",
    "accuracy_score(dframe2encode[[\"gender\"]], LSV_pred ))"
   ]
  },
  {
   "cell_type": "code",
   "execution_count": 34,
   "metadata": {},
   "outputs": [
    {
     "name": "stdout",
     "output_type": "stream",
     "text": [
      "Prediction using BernoulliNB \n",
      "\n",
      "   height  weight    hair beard scarf  gender predicted_gender\n",
      "0   179.1     185    Long   Yes    No    Male             Male\n",
      "1   160.5     130   Short    No    No  Female           Female\n",
      "2   177.8     160    Bald    No    No    Male             Male\n",
      "3   161.1     100  Medium    No    No  Female           Female\n",
      "Accuracy Score:\n",
      " 1.0\n"
     ]
    }
   ],
   "source": [
    "dframe2['predicted_gender']=decodeg4\n",
    "Ber_dframe2=pd.DataFrame(dframe2)\n",
    "\n",
    "print(\"Prediction using BernoulliNB \\n\")\n",
    "print(Ber_dframe2)\n",
    "\n",
    "\n",
    "print(\"Accuracy Score:\\n\",  \n",
    "accuracy_score(dframe2encode[[\"gender\"]], Ber_pred ))\n"
   ]
  },
  {
   "cell_type": "markdown",
   "metadata": {},
   "source": [
    "# Selection of Best Modal"
   ]
  },
  {
   "cell_type": "code",
   "execution_count": 35,
   "metadata": {},
   "outputs": [
    {
     "name": "stdout",
     "output_type": "stream",
     "text": [
      "Detailed Performance of all modals\n",
      "+------------------------+----------+\n",
      "|         Modal          | Accuracy |\n",
      "+------------------------+----------+\n",
      "|  Logistic Regression   |   0.75   |\n",
      "| RandomForestClassifier |   1.0    |\n",
      "|       LinearSVC        |   0.75   |\n",
      "|      BernoulliNB       |   1.0    |\n",
      "+------------------------+----------+\n",
      "Best Modal\n",
      "+------------------------+----------+\n",
      "|         Modal          | Accuracy |\n",
      "+------------------------+----------+\n",
      "| RandomForestClassifier |   1.0    |\n",
      "+------------------------+----------+\n"
     ]
    }
   ],
   "source": [
    "x = PrettyTable()\n",
    "\n",
    "x.field_names = [\"Modal\", \"Accuracy\"]\n",
    "x.add_row([\"Logistic Regression\",accuracy_score(dframe2encode[[\"gender\"]], y_pred )])\n",
    "x.add_row([\"RandomForestClassifier\",accuracy_score(dframe2encode[[\"gender\"]], y_predrandom )])\n",
    "x.add_row([\"LinearSVC\",accuracy_score(dframe2encode[[\"gender\"]], LSV_pred )])\n",
    "x.add_row([\"BernoulliNB\",accuracy_score(dframe2encode[[\"gender\"]], Ber_pred )])\n",
    "\n",
    "print(\"Detailed Performance of all modals\")\n",
    "print(x)\n",
    "a=accuracy_score(dframe2encode[[\"gender\"]], y_pred )\n",
    "b=accuracy_score(dframe2encode[[\"gender\"]], y_predrandom )\n",
    "c=accuracy_score(dframe2encode[[\"gender\"]], LSV_pred )\n",
    "d=accuracy_score(dframe2encode[[\"gender\"]], Ber_pred )\n",
    "\n",
    "max(a,b,c,d)\n",
    "\n",
    "y = PrettyTable()\n",
    "\n",
    "y.field_names = [\"Modal\", \"Accuracy\"]\n",
    "\n",
    "y.add_row([\"RandomForestClassifier\",accuracy_score(dframe2encode[[\"gender\"]], y_predrandom )])\n",
    "\n",
    "\n",
    "print(\"Best Modal\")\n",
    "print(y)\n",
    "\n",
    "\n"
   ]
  },
  {
   "cell_type": "markdown",
   "metadata": {},
   "source": [
    "# Application Layer"
   ]
  },
  {
   "cell_type": "markdown",
   "metadata": {},
   "source": [
    "# Combine Data(Train+Test)"
   ]
  },
  {
   "cell_type": "code",
   "execution_count": 36,
   "metadata": {},
   "outputs": [
    {
     "name": "stdout",
     "output_type": "stream",
     "text": [
      "Train Features in the form of DataFrame:\n",
      "\n",
      "   height  weight  hair  beard  scarf  gender\n",
      "0  180.30   196.0   0.0    1.0    0.0       1\n",
      "1  170.00   120.0   1.0    0.0    0.0       0\n",
      "2  178.50   200.0   3.0    0.0    0.0       1\n",
      "3  163.40   110.0   2.0    0.0    1.0       0\n",
      "4  175.22   220.0   3.0    1.0    0.0       1\n",
      "5  165.00   150.0   2.0    0.0    1.0       0\n"
     ]
    }
   ],
   "source": [
    "print('Train Features in the form of DataFrame:\\n')\n",
    "dframe['weight'] = dframe['weight'].astype(float)\n",
    "dframe['hair'] = dframe['hair'].astype(float)\n",
    "dframe['beard'] = dframe['beard'].astype(float)\n",
    "dframe['scarf'] = dframe['scarf'].astype(float)\n",
    "print(dframe)"
   ]
  },
  {
   "cell_type": "code",
   "execution_count": 37,
   "metadata": {},
   "outputs": [
    {
     "name": "stdout",
     "output_type": "stream",
     "text": [
      "Test Features in the form of DataFrame:\n",
      "\n",
      "index  height  weight  hair  beard  scarf  gender\n",
      "0       179.1   185.0   1.0    1.0    0.0       1\n",
      "1       160.5   130.0   3.0    0.0    0.0       0\n",
      "2       177.8   160.0   0.0    0.0    0.0       1\n",
      "3       161.1   100.0   2.0    0.0    0.0       0\n"
     ]
    }
   ],
   "source": [
    "\n",
    "print('Test Features in the form of DataFrame:\\n')\n",
    "dframe2encode['weight'] = dframe2encode['weight'].astype(float)\n",
    "dframe2encode['hair'] = dframe2encode['hair'].astype(float)\n",
    "dframe2encode['beard'] = dframe2encode['beard'].astype(float)\n",
    "dframe2encode['scarf'] = dframe2encode['scarf'].astype(float)\n",
    "print(dframe2encode)"
   ]
  },
  {
   "cell_type": "code",
   "execution_count": 38,
   "metadata": {},
   "outputs": [
    {
     "name": "stdout",
     "output_type": "stream",
     "text": [
      "All Features in the form of DataFrame\n",
      "\n",
      "index  height  weight  hair  beard  scarf  gender\n",
      "0      180.30   196.0   0.0    1.0    0.0       1\n",
      "1      170.00   120.0   1.0    0.0    0.0       0\n",
      "2      178.50   200.0   3.0    0.0    0.0       1\n",
      "3      163.40   110.0   2.0    0.0    1.0       0\n",
      "4      175.22   220.0   3.0    1.0    0.0       1\n",
      "5      165.00   150.0   2.0    0.0    1.0       0\n",
      "0      179.10   185.0   1.0    1.0    0.0       1\n",
      "1      160.50   130.0   3.0    0.0    0.0       0\n",
      "2      177.80   160.0   0.0    0.0    0.0       1\n",
      "3      161.10   100.0   2.0    0.0    0.0       0\n"
     ]
    }
   ],
   "source": [
    "print(\"All Features in the form of DataFrame\\n\")\n",
    "d1 = pd.DataFrame(dframe, index=[0,1, 2, 3,4,5])\n",
    "d2 = pd.DataFrame(dframe2encode, index=[0, 1, 2,3])\n",
    "temp=pd.concat([d1, d2])\n",
    "print(temp)"
   ]
  },
  {
   "cell_type": "markdown",
   "metadata": {},
   "source": [
    "# Train Best Model on All Data"
   ]
  },
  {
   "cell_type": "code",
   "execution_count": 39,
   "metadata": {},
   "outputs": [
    {
     "data": {
      "text/plain": [
       "RandomForestClassifier(bootstrap=True, class_weight=None, criterion='gini',\n",
       "            max_depth=None, max_features='auto', max_leaf_nodes=None,\n",
       "            min_impurity_decrease=0.0, min_impurity_split=None,\n",
       "            min_samples_leaf=1, min_samples_split=2,\n",
       "            min_weight_fraction_leaf=0.0, n_estimators=10, n_jobs=None,\n",
       "            oob_score=False, random_state=None, verbose=0,\n",
       "            warm_start=False)"
      ]
     },
     "execution_count": 39,
     "metadata": {},
     "output_type": "execute_result"
    }
   ],
   "source": [
    "from sklearn.ensemble import RandomForestClassifier\n",
    "# create Random forest object \n",
    "finalrandom = RandomForestClassifier()\n",
    "   \n",
    "# train the model using the training sets \n",
    "finalrandom.fit(temp[[\"height\",\"weight\",\"hair\",\"beard\",\"scarf\"]],temp[[\"gender\"]]) \n",
    "  \n"
   ]
  },
  {
   "cell_type": "markdown",
   "metadata": {},
   "source": [
    "# Make Prediction on UnSeen/New Data"
   ]
  },
  {
   "cell_type": "markdown",
   "metadata": {},
   "source": [
    "# Take Input From User"
   ]
  },
  {
   "cell_type": "code",
   "execution_count": 59,
   "metadata": {},
   "outputs": [
    {
     "name": "stdout",
     "output_type": "stream",
     "text": [
      "Please Enter your Height here:\n",
      "170\n",
      "Please Enter your Weight here:\n",
      "120\n",
      "Please Enter your Hair Length here Bald/Long/Short/Medium  :\n",
      "Long\n",
      "Do you Have a Beard\n",
      "No\n",
      "Do you Wear Scarf?:\n",
      "No\n"
     ]
    }
   ],
   "source": [
    "h =float(input(\"Please Enter your Height here:\\n\") ) \n",
    "w =int(input(\"Please Enter your Weight here:\\n\") ) \n",
    "hr = input(\"Please Enter your Hair Length here Bald/Long/Short/Medium  :\\n\") \n",
    "b = input(\"Do you Have a Beard\\n\") \n",
    "s = input(\"Do you Wear Scarf?:\\n\") \n"
   ]
  },
  {
   "cell_type": "markdown",
   "metadata": {},
   "source": [
    "\n",
    "# Convert User Input into Feature Vector"
   ]
  },
  {
   "cell_type": "code",
   "execution_count": 60,
   "metadata": {},
   "outputs": [
    {
     "name": "stdout",
     "output_type": "stream",
     "text": [
      "User Input in Actual DataFrame Form:\n",
      "\n",
      "   Height  Weight  Hair Beard Scarf\n",
      "0   170.0     120  Long    No    No\n"
     ]
    }
   ],
   "source": [
    "value=[{'Height': h, 'Weight': w, 'Hair':hr ,'Beard':b,'Scarf':s}]\n",
    "\n",
    "attri =['Height', 'Weight', 'Hair','Beard' ,'Scarf']\n",
    "userinput=pd.DataFrame(value, columns=attri)\n",
    "\n",
    "print('User Input in Actual DataFrame Form:\\n')\n",
    "print(userinput)"
   ]
  },
  {
   "cell_type": "code",
   "execution_count": 61,
   "metadata": {},
   "outputs": [
    {
     "name": "stdout",
     "output_type": "stream",
     "text": [
      "User Input in Encoded DataFrame Form:\n",
      "\n",
      "   Height  Weight  encoded_hair  encoded_beard  encoded_scarf\n",
      "0   170.0     120             1              0              0\n"
     ]
    }
   ],
   "source": [
    "print(\"User Input in Encoded DataFrame Form:\\n\")\n",
    "\n",
    "userinput[\"encoded_beard\"] = encodet4.transform(userinput['Beard'])\n",
    "userinput[\"encoded_scarf\"] = encodet2.transform(userinput['Scarf'])\n",
    "userinput[\"encoded_hair\"] = encodet3.transform(userinput['Hair'])\n",
    "\n",
    "print(userinput[[\"Height\",\"Weight\",\"encoded_hair\",\"encoded_beard\",\"encoded_scarf\"]])\n",
    "\n"
   ]
  },
  {
   "cell_type": "markdown",
   "metadata": {},
   "source": [
    "# Apply Trained Modal on Feature Vector of Unseen Data and Output Prediction to User"
   ]
  },
  {
   "cell_type": "code",
   "execution_count": 62,
   "metadata": {},
   "outputs": [
    {
     "name": "stdout",
     "output_type": "stream",
     "text": [
      "Prediction: ['Female']\n"
     ]
    }
   ],
   "source": [
    "final_predrandom = finalrandom.predict(userinput[[\"Height\",\"Height\",\"encoded_hair\",\"encoded_beard\",\"encoded_scarf\"]]) \n",
    "decodefinal=encodet1.inverse_transform(final_predrandom)\n",
    "print(\"Prediction:\",decodefinal)\n"
   ]
  },
  {
   "cell_type": "code",
   "execution_count": null,
   "metadata": {},
   "outputs": [],
   "source": []
  }
 ],
 "metadata": {
  "kernelspec": {
   "display_name": "Python 3",
   "language": "python",
   "name": "python3"
  },
  "language_info": {
   "codemirror_mode": {
    "name": "ipython",
    "version": 3
   },
   "file_extension": ".py",
   "mimetype": "text/x-python",
   "name": "python",
   "nbconvert_exporter": "python",
   "pygments_lexer": "ipython3",
   "version": "3.7.1"
  }
 },
 "nbformat": 4,
 "nbformat_minor": 2
}
